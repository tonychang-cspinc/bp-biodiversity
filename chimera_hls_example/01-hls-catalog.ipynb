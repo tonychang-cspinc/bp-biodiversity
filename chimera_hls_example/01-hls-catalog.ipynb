{
 "cells": [
  {
   "cell_type": "markdown",
   "metadata": {},
   "source": [
    "# Harmonized Landsat-Sentinel Catalog Creation\n",
    "\n",
    "This notebook demonstrates creation and storage of a [zarray](https://zarr.readthedocs.io/en/stable/) catalog which contains metadata and available HLS scenes. The scenes here are stored as cloud-optimized geotiffs in Azure blob storage in the East US 2 region, using the HLS tile reference system. Full dataset details can be found [here](https://hls.gsfc.nasa.gov/products-description/]) and the specifics of the Microsoft Ai-for-Earth version used in this example, [here](https://microsoft.github.io/AIforEarthDataSets/data/hls.html). The catalog is stored in Azure blob storage based on user input parameters in the 2nd cell below, and following notebooks use the catalog for data preprocessing, collection, and sampling. Multiple inputs for catalog creation methods are demonstrated. Creation of a catalog for sampling tiles with associated field data is also shown.\n",
    "\n",
    "**Note: 'AZURE_STRG_ACCOUNT_KEY' can be found within a storage account in the Azure Portal as seen [here](../pictures/Storage_Key.jpg)**"
   ]
  },
  {
   "cell_type": "code",
   "execution_count": 1,
   "metadata": {},
   "outputs": [],
   "source": [
    "import os\n",
    "\n",
    "import fsspec\n",
    "import geopandas as gpd\n",
    "import pandas as pd\n",
    "import sys\n",
    "from tqdm import tqdm\n",
    "\n",
    "sys.path.append(\"..\")\n",
    "from utils.hls.catalog import HLSBand\n",
    "from utils.hls.catalog import HLSCatalog\n",
    "from utils.hls.catalog import HLSTileLookup\n",
    "from utils.hls.catalog import fia_csv_to_data_catalog_input"
   ]
  },
  {
   "cell_type": "code",
   "execution_count": 2,
   "metadata": {},
   "outputs": [
    {
     "name": "stdout",
     "output_type": "stream",
     "text": [
      "Stored 'envdict' (dict)\n"
     ]
    }
   ],
   "source": [
    "# Store environmental variables for use in subsequent notebooks\n",
    "os.environ['AZURE_STRG_ACCOUNT_KEY'] = ''\n",
    "os.environ['AZURE_STRG_ACCOUNT_NAME'] = ''\n",
    "os.environ['CATALOG_BLOB_CONTAINER'] = ''\n",
    "envdict = dict(os.environ)\n",
    "%store envdict"
   ]
  },
  {
   "cell_type": "code",
   "execution_count": 3,
   "metadata": {},
   "outputs": [
    {
     "name": "stdout",
     "output_type": "stream",
     "text": [
      "Reading tile extents...\n",
      "Read tile extents for 56686 tiles\n"
     ]
    }
   ],
   "source": [
    "lookup = HLSTileLookup()"
   ]
  },
  {
   "cell_type": "code",
   "execution_count": 4,
   "metadata": {},
   "outputs": [],
   "source": [
    "bands = [\n",
    "    HLSBand.COASTAL_AEROSOL,\n",
    "    HLSBand.BLUE,\n",
    "    HLSBand.GREEN,\n",
    "    HLSBand.RED,\n",
    "    HLSBand.NIR_NARROW,\n",
    "    HLSBand.SWIR1,\n",
    "    HLSBand.SWIR2,\n",
    "    HLSBand.CIRRUS,\n",
    "    HLSBand.QA,\n",
    "]"
   ]
  },
  {
   "cell_type": "code",
   "execution_count": 5,
   "metadata": {},
   "outputs": [
    {
     "name": "stdout",
     "output_type": "stream",
     "text": [
      "Searching for matching Landsat scenes...\n"
     ]
    },
    {
     "name": "stderr",
     "output_type": "stream",
     "text": [
      "100%|██████████| 988/988 [03:07<00:00,  5.26it/s]\n"
     ]
    },
    {
     "name": "stdout",
     "output_type": "stream",
     "text": [
      "Searching for matching Sentinel scenes...\n"
     ]
    },
    {
     "name": "stderr",
     "output_type": "stream",
     "text": [
      "100%|██████████| 988/988 [01:07<00:00, 14.69it/s]\n"
     ]
    }
   ],
   "source": [
    "# The example here queries for all scenes from the continental US using a multipolygon geojson for 2015\n",
    "# Typical tiles have ~100-200 available images across all satellites, so catalog creation takes time for large queries\n",
    "geom = gpd.read_file('test_data/conus_final.geojson').to_crs('EPSG:4326')\n",
    "years = [2015]\n",
    "conus_catalog = HLSCatalog.from_geom(geom, years, bands, lookup)"
   ]
  },
  {
   "cell_type": "code",
   "execution_count": null,
   "metadata": {},
   "outputs": [],
   "source": [
    "path = 'catalogs/hls_conus_2015-2019'\n",
    "write_store = fsspec.get_mapper(\n",
    "    f\"az://{os.environ['CATALOG_BLOB_CONTAINER']}/{path}.zarr\",\n",
    "    account_name=os.environ['AZURE_STRG_ACCOUNT_NAME'],\n",
    "    account_key=os.environ['AZURE_STRG_ACCOUNT_KEY']\n",
    ")\n",
    "conus_catalog.to_zarr(write_store)"
   ]
  },
  {
   "cell_type": "code",
   "execution_count": 6,
   "metadata": {},
   "outputs": [
    {
     "name": "stdout",
     "output_type": "stream",
     "text": [
      "Searching for matching Landsat scenes...\n"
     ]
    },
    {
     "name": "stderr",
     "output_type": "stream",
     "text": [
      "100%|██████████| 48/48 [00:10<00:00,  4.53it/s]\n"
     ]
    },
    {
     "name": "stdout",
     "output_type": "stream",
     "text": [
      "Searching for matching Sentinel scenes...\n"
     ]
    },
    {
     "name": "stderr",
     "output_type": "stream",
     "text": [
      "100%|██████████| 48/48 [00:27<00:00,  1.75it/s]\n"
     ]
    }
   ],
   "source": [
    "# The example here queries for scattered scenes in the CONUS using a csv formatted as:\n",
    "# tile, year\n",
    "# xxxxx, xxxx\n",
    "tilesdf = pd.read_csv('test_data/fd_test_tiles.csv')\n",
    "test_catalog = HLSCatalog.from_tilesdf(tilesdf,bands=bands)"
   ]
  },
  {
   "cell_type": "code",
   "execution_count": null,
   "metadata": {},
   "outputs": [],
   "source": [
    "path = 'catalogs/hls_test_tiles'\n",
    "write_store = fsspec.get_mapper(\n",
    "    f\"az://{os.environ['CATALOG_BLOB_CONTAINER']}/{path}.zarr\",\n",
    "    account_name=os.environ['AZURE_STRG_ACCOUNT_NAME'],\n",
    "    account_key=os.environ['AZURE_STRG_ACCOUNT_KEY']\n",
    ")\n",
    "test_catalog.to_zarr(write_store)"
   ]
  },
  {
   "cell_type": "code",
   "execution_count": null,
   "metadata": {},
   "outputs": [],
   "source": [
    "# 2015-2019 Washington State using a shapely bounding box i.e. ['MinLon', 'MinLat', 'MaxLon', 'MaxLat']\n",
    "bbox = [-124.76074218749999, 45.44471679159555, -116.91650390625, 49.05227025601607]\n",
    "years = [2015, 2016, 2017, 2018, 2019]\n",
    "wa_catalog = HLSCatalog.from_bbox(bbox, years, bands, lookup)"
   ]
  },
  {
   "cell_type": "code",
   "execution_count": null,
   "metadata": {},
   "outputs": [],
   "source": [
    "path = 'catalogs/hls_wa_2015-2019'\n",
    "write_store = fsspec.get_mapper(\n",
    "    f\"az://{os.environ['CATALOG_BLOB_CONTAINER']}/{path}.zarr\",\n",
    "    account_name=os.environ['AZURE_STRG_ACCOUNT_NAME'],\n",
    "    account_key=os.environ['AZURE_STRG_ACCOUNT_KEY']\n",
    ")\n",
    "wa_catalog.to_zarr(write_store)"
   ]
  },
  {
   "cell_type": "code",
   "execution_count": null,
   "metadata": {},
   "outputs": [],
   "source": [
    "# 2015-2019 Arizona\n",
    "\n",
    "bbox = [-114.86206054687499, 31.306715155075167, -109.0283203125, 37.02886944696474]\n",
    "years = [2015, 2016, 2017, 2018, 2019]\n",
    "az_catalog = HLSCatalog.from_bbox(bbox, years, bands, lookup)"
   ]
  },
  {
   "cell_type": "code",
   "execution_count": null,
   "metadata": {},
   "outputs": [],
   "source": [
    "path = 'catalogs/hls_az_2015-2019'\n",
    "write_store = fsspec.get_mapper(\n",
    "    f\"az://{os.environ['CATALOG_BLOB_CONTAINER']}/{path}.zarr\",\n",
    "    account_name=os.environ['AZURE_STRG_ACCOUNT_NAME'],\n",
    "    account_key=os.environ['AZURE_STRG_ACCOUNT_KEY']\n",
    ")\n",
    "az_catalog.to_zarr(write_store)"
   ]
  },
  {
   "cell_type": "code",
   "execution_count": null,
   "metadata": {},
   "outputs": [],
   "source": [
    "# 2015-2019 Western US (Montana/Wyoming/Colorado/New Mexico and west)\n",
    "bbox = [-124.78, 31.33, -102.04, 49.02]\n",
    "years = [2015, 2016, 2017, 2018, 2019]\n",
    "west_catalog = HLSCatalog.from_bbox(bbox, years, bands, lookup)"
   ]
  },
  {
   "cell_type": "code",
   "execution_count": null,
   "metadata": {},
   "outputs": [],
   "source": [
    "path = 'catalogs/hls_west_2015-2019'\n",
    "write_store = fsspec.get_mapper(\n",
    "    f\"az://{os.environ['CATALOG_BLOB_CONTAINER']}/{path}.zarr\",\n",
    "    account_name=os.environ['AZURE_STRG_ACCOUNT_NAME'],\n",
    "    account_key=os.environ['AZURE_STRG_ACCOUNT_KEY']\n",
    ")\n",
    "west_catalog.to_zarr(write_store)"
   ]
  },
  {
   "cell_type": "code",
   "execution_count": null,
   "metadata": {},
   "outputs": [],
   "source": [
    "# The from_point_pandas method requires any dataframe with columns lat, lon, and year\n",
    "# Below, a subsetted and reindexed csv from the FIA Datamart is used \n",
    "# This is not included in the public repository\n",
    "# Subsequent sampling in notebook 3 requires a column 'INDEX' that uniquely identifies samples\n",
    "df = fia_csv_to_data_catalog_input('./fia_no_pltcn.csv')\n",
    "pt_catalog = HLSCatalog.from_point_pandas(df, bands, include_scenes=False)"
   ]
  },
  {
   "cell_type": "code",
   "execution_count": null,
   "metadata": {},
   "outputs": [],
   "source": [
    "write_store = fsspec.get_mapper(\n",
    "    f\"az://fia/catalogs/fia_tiles.zarr\",\n",
    "    account_name=os.environ['AZURE_STRG_ACCOUNT_NAME'],\n",
    "    account_key=os.environ['AZURE_STRG_ACCOUNT_KEY']\n",
    ")\n",
    "pt_catalog.to_zarr(write_store)"
   ]
  }
 ],
 "metadata": {
  "kernelspec": {
   "display_name": "Python 3 (ipykernel)",
   "language": "python",
   "name": "python3"
  },
  "language_info": {
   "codemirror_mode": {
    "name": "ipython",
    "version": 3
   },
   "file_extension": ".py",
   "mimetype": "text/x-python",
   "name": "python",
   "nbconvert_exporter": "python",
   "pygments_lexer": "ipython3",
   "version": "3.8.12"
  }
 },
 "nbformat": 4,
 "nbformat_minor": 4
}
