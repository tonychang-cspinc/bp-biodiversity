{
 "cells": [
  {
   "cell_type": "code",
   "execution_count": 3,
   "metadata": {},
   "outputs": [
    {
     "name": "stdout",
     "output_type": "stream",
     "text": [
      "Using a local cluster...\n"
     ]
    },
    {
     "ename": "ImportError",
     "evalue": "cannot import name 'process_catalog' from 'utils.hls.compute' (C:\\Users\\Brandon\\gitrepos\\data-ingestion\\chimera_hls_example\\..\\utils\\hls\\compute.py)",
     "output_type": "error",
     "traceback": [
      "\u001b[1;31m---------------------------------------------------------------------------\u001b[0m",
      "\u001b[1;31mImportError\u001b[0m                               Traceback (most recent call last)",
      "\u001b[1;32m<ipython-input-3-935daef56a12>\u001b[0m in \u001b[0;36m<module>\u001b[1;34m\u001b[0m\n\u001b[0;32m     22\u001b[0m \u001b[1;32mfrom\u001b[0m \u001b[0mutils\u001b[0m\u001b[1;33m.\u001b[0m\u001b[0mhls\u001b[0m\u001b[1;33m.\u001b[0m\u001b[0mcatalog\u001b[0m \u001b[1;32mimport\u001b[0m \u001b[0mHLSCatalog\u001b[0m\u001b[1;33m\u001b[0m\u001b[1;33m\u001b[0m\u001b[0m\n\u001b[0;32m     23\u001b[0m \u001b[1;32mfrom\u001b[0m \u001b[0mutils\u001b[0m\u001b[1;33m.\u001b[0m\u001b[0mhls\u001b[0m\u001b[1;33m.\u001b[0m\u001b[0mcatalog\u001b[0m \u001b[1;32mimport\u001b[0m \u001b[0mscene_to_urls\u001b[0m\u001b[1;33m\u001b[0m\u001b[1;33m\u001b[0m\u001b[0m\n\u001b[1;32m---> 24\u001b[1;33m \u001b[1;32mfrom\u001b[0m \u001b[0mutils\u001b[0m\u001b[1;33m.\u001b[0m\u001b[0mhls\u001b[0m\u001b[1;33m.\u001b[0m\u001b[0mcompute\u001b[0m \u001b[1;32mimport\u001b[0m \u001b[0mprocess_catalog\u001b[0m\u001b[1;33m\u001b[0m\u001b[1;33m\u001b[0m\u001b[0m\n\u001b[0m\u001b[0;32m     25\u001b[0m \u001b[1;32mfrom\u001b[0m \u001b[0mutils\u001b[0m\u001b[1;33m.\u001b[0m\u001b[0mhls\u001b[0m\u001b[1;33m.\u001b[0m\u001b[0mcompute\u001b[0m \u001b[1;32mimport\u001b[0m \u001b[0mcalculate_job_median\u001b[0m\u001b[1;33m\u001b[0m\u001b[1;33m\u001b[0m\u001b[0m\n",
      "\u001b[1;31mImportError\u001b[0m: cannot import name 'process_catalog' from 'utils.hls.compute' (C:\\Users\\Brandon\\gitrepos\\data-ingestion\\chimera_hls_example\\..\\utils\\hls\\compute.py)"
     ]
    }
   ],
   "source": [
    "import os\n",
    "import time\n",
    "import sys\n",
    "sys.path.append('..')\n",
    "\n",
    "# pip/conda installed\n",
    "import dask.array as da\n",
    "import fsspec\n",
    "import pandas as pd\n",
    "import xarray as xr\n",
    "from dask.distributed import as_completed\n",
    "from dask.distributed import Client\n",
    "try:\n",
    "    from dask_gateway import GatewayCluster\n",
    "    from utils.dask import create_cluster\n",
    "    from utils.dask import upload_source\n",
    "    os.environ['COL_ENV']='distributed'\n",
    "except ModuleNotFoundError:\n",
    "    os.environ['COL_ENV']='local'\n",
    "    print('Using a local cluster...')\n",
    "from utils.hls.catalog import HLSBand\n",
    "from utils.hls.catalog import HLSCatalog\n",
    "from utils.hls.catalog import scene_to_urls\n",
    "from utils.hls.compute import process_catalog\n",
    "from utils.hls.compute import calculate_job_median"
   ]
  },
  {
   "cell_type": "code",
   "execution_count": 2,
   "metadata": {},
   "outputs": [],
   "source": [
    "# read the entire data once (each tile is 3660x3660)...\n",
    "chunks = {'band': 1, 'x': 3660, 'y': 3660}"
   ]
  },
  {
   "cell_type": "code",
   "execution_count": 3,
   "metadata": {},
   "outputs": [],
   "source": [
    "# fill with your account key\n",
    "os.environ['AZURE_ACCOUNT_KEY'] = \"\""
   ]
  },
  {
   "cell_type": "code",
   "execution_count": 4,
   "metadata": {},
   "outputs": [],
   "source": [
    "catalog_url = fsspec.get_mapper(\n",
    "    f\"az://fia/catalogs/fia10.zarr\",\n",
    "    account_name=\"usfs\",\n",
    "    account_key=os.environ['AZURE_ACCOUNT_KEY']\n",
    ")\n",
    "point_catalog = HLSCatalog.from_zarr(catalog_url)"
   ]
  },
  {
   "cell_type": "code",
   "execution_count": 5,
   "metadata": {},
   "outputs": [
    {
     "name": "stdout",
     "output_type": "stream",
     "text": [
      "Cluster dashboard visible at: /services/dask-gateway/clusters/default.24c49989e49f4221a924824a0460b7ef/status\n"
     ]
    }
   ],
   "source": [
    "cluster = create_cluster(64, 1, 4)\n",
    "print(f\"Cluster dashboard visible at: {cluster.dashboard_link}\")\n",
    "client = cluster.get_client()"
   ]
  },
  {
   "cell_type": "code",
   "execution_count": 6,
   "metadata": {},
   "outputs": [],
   "source": [
    "upload_source('./', client)"
   ]
  },
  {
   "cell_type": "code",
   "execution_count": 7,
   "metadata": {},
   "outputs": [
    {
     "name": "stdout",
     "output_type": "stream",
     "text": [
      "Submitting job 2\n",
      "Submitting job 5\n",
      "Completed job 2)\n",
      "Submitting job 8\n",
      "Completed job 5)\n",
      "Completed job 8)\n",
      "3 completed in 231.7607957609871 seconds\n"
     ]
    }
   ],
   "source": [
    "account_name=\"usfs\"\n",
    "storage_container=\"fia/hls-testing\"\n",
    "account_key=os.environ[\"AZURE_ACCOUNT_KEY\"]\n",
    "catalog_groupby = \"INDEX\"\n",
    "job_groupby = \"time.month\"\n",
    "\n",
    "process_catalog(point_catalog.xr_ds, catalog_groupby, calculate_job_median, job_groupby, chunks, account_name, storage_container, account_key, client, 2)"
   ]
  },
  {
   "cell_type": "code",
   "execution_count": 9,
   "metadata": {},
   "outputs": [],
   "source": [
    "cluster.shutdown()"
   ]
  },
  {
   "cell_type": "markdown",
   "metadata": {},
   "source": [
    "## TODO\n",
    "\n",
    "1. Do QA on results"
   ]
  }
 ],
 "metadata": {
  "kernelspec": {
   "display_name": "Python 3",
   "language": "python",
   "name": "python3"
  },
  "language_info": {
   "codemirror_mode": {
    "name": "ipython",
    "version": 3
   },
   "file_extension": ".py",
   "mimetype": "text/x-python",
   "name": "python",
   "nbconvert_exporter": "python",
   "pygments_lexer": "ipython3",
   "version": "3.9.7"
  }
 },
 "nbformat": 4,
 "nbformat_minor": 4
}
